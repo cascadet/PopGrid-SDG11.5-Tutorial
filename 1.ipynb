{
  "nbformat": 4,
  "nbformat_minor": 0,
  "metadata": {
    "colab": {
      "name": "1.ipynb",
      "provenance": [],
      "include_colab_link": true
    },
    "kernelspec": {
      "name": "python3",
      "display_name": "Python 3"
    },
    "language_info": {
      "name": "python"
    }
  },
  "cells": [
    {
      "cell_type": "markdown",
      "metadata": {
        "id": "view-in-github",
        "colab_type": "text"
      },
      "source": [
        "<a href=\"https://colab.research.google.com/github/cascadet/PopGrid-SDG11.5-Tutorial/blob/main/1.ipynb\" target=\"_parent\"><img src=\"https://colab.research.google.com/assets/colab-badge.svg\" alt=\"Open In Colab\"/></a>"
      ]
    },
    {
      "cell_type": "markdown",
      "metadata": {
        "id": "xE0t2RRpOHqG"
      },
      "source": [
        "# Cliping Step for Raster Based on Imported Country Shapefile\n",
        "\n",
        "# By Cascade Tuholske, Sep 2020 <br>\n",
        "# Notebook to clip rasters. <br>\n",
        "# **NOTE** Needs to be run for all geographies: Egypt forEGY.shp, Nepal gdam 0, M-M-Z0.shp, and ECU-clip0.shp\n"
      ]
    },
    {
      "cell_type": "code",
      "metadata": {
        "id": "gy1msD_pJCyT"
      },
      "source": [
        "# first step is to install some libraries 1. install rioxarray "
      ],
      "execution_count": null,
      "outputs": []
    },
    {
      "cell_type": "code",
      "metadata": {
        "colab": {
          "base_uri": "https://localhost:8080/"
        },
        "id": "wnxoiPrdZF__",
        "outputId": "eb574361-68ba-47fb-dcff-2d4c7df7fa38"
      },
      "source": [
        "pip install rioxarray\n"
      ],
      "execution_count": 3,
      "outputs": [
        {
          "output_type": "stream",
          "name": "stdout",
          "text": [
            "Collecting rioxarray\n",
            "  Downloading rioxarray-0.8.0.tar.gz (46 kB)\n",
            "\u001b[?25l\r\u001b[K     |███████                         | 10 kB 18.5 MB/s eta 0:00:01\r\u001b[K     |██████████████                  | 20 kB 23.0 MB/s eta 0:00:01\r\u001b[K     |█████████████████████           | 30 kB 24.4 MB/s eta 0:00:01\r\u001b[K     |████████████████████████████    | 40 kB 27.6 MB/s eta 0:00:01\r\u001b[K     |████████████████████████████████| 46 kB 3.0 MB/s \n",
            "\u001b[?25h  Installing build dependencies ... \u001b[?25l\u001b[?25hdone\n",
            "  Getting requirements to build wheel ... \u001b[?25l\u001b[?25hdone\n",
            "    Preparing wheel metadata ... \u001b[?25l\u001b[?25hdone\n",
            "Collecting rasterio\n",
            "  Downloading rasterio-1.2.10-cp37-cp37m-manylinux1_x86_64.whl (19.3 MB)\n",
            "\u001b[K     |████████████████████████████████| 19.3 MB 3.9 MB/s \n",
            "\u001b[?25hRequirement already satisfied: packaging in /usr/local/lib/python3.7/dist-packages (from rioxarray) (21.0)\n",
            "Collecting pyproj>=2.2\n",
            "  Downloading pyproj-3.2.1-cp37-cp37m-manylinux2010_x86_64.whl (6.3 MB)\n",
            "\u001b[K     |████████████████████████████████| 6.3 MB 43.1 MB/s \n",
            "\u001b[?25hRequirement already satisfied: xarray>=0.17 in /usr/local/lib/python3.7/dist-packages (from rioxarray) (0.18.2)\n",
            "Requirement already satisfied: certifi in /usr/local/lib/python3.7/dist-packages (from pyproj>=2.2->rioxarray) (2021.5.30)\n",
            "Requirement already satisfied: numpy>=1.17 in /usr/local/lib/python3.7/dist-packages (from xarray>=0.17->rioxarray) (1.19.5)\n",
            "Requirement already satisfied: setuptools>=40.4 in /usr/local/lib/python3.7/dist-packages (from xarray>=0.17->rioxarray) (57.4.0)\n",
            "Requirement already satisfied: pandas>=1.0 in /usr/local/lib/python3.7/dist-packages (from xarray>=0.17->rioxarray) (1.1.5)\n",
            "Requirement already satisfied: pytz>=2017.2 in /usr/local/lib/python3.7/dist-packages (from pandas>=1.0->xarray>=0.17->rioxarray) (2018.9)\n",
            "Requirement already satisfied: python-dateutil>=2.7.3 in /usr/local/lib/python3.7/dist-packages (from pandas>=1.0->xarray>=0.17->rioxarray) (2.8.2)\n",
            "Requirement already satisfied: six>=1.5 in /usr/local/lib/python3.7/dist-packages (from python-dateutil>=2.7.3->pandas>=1.0->xarray>=0.17->rioxarray) (1.15.0)\n",
            "Requirement already satisfied: pyparsing>=2.0.2 in /usr/local/lib/python3.7/dist-packages (from packaging->rioxarray) (2.4.7)\n",
            "Collecting cligj>=0.5\n",
            "  Downloading cligj-0.7.2-py3-none-any.whl (7.1 kB)\n",
            "Collecting snuggs>=1.4.1\n",
            "  Downloading snuggs-1.4.7-py3-none-any.whl (5.4 kB)\n",
            "Requirement already satisfied: click>=4.0 in /usr/local/lib/python3.7/dist-packages (from rasterio->rioxarray) (7.1.2)\n",
            "Requirement already satisfied: attrs in /usr/local/lib/python3.7/dist-packages (from rasterio->rioxarray) (21.2.0)\n",
            "Collecting affine\n",
            "  Downloading affine-2.3.0-py2.py3-none-any.whl (15 kB)\n",
            "Collecting click-plugins\n",
            "  Downloading click_plugins-1.1.1-py2.py3-none-any.whl (7.5 kB)\n",
            "Building wheels for collected packages: rioxarray\n",
            "  Building wheel for rioxarray (PEP 517) ... \u001b[?25l\u001b[?25hdone\n",
            "  Created wheel for rioxarray: filename=rioxarray-0.8.0-py3-none-any.whl size=54247 sha256=a9789ea85fd607558a87e65f1363a114f3c17948994bf8d60105248cbf9972ad\n",
            "  Stored in directory: /root/.cache/pip/wheels/0a/e5/fb/5ac6dcd7faf126d92239d03f0e7d6c46648094d7a8706d2a63\n",
            "Successfully built rioxarray\n",
            "Installing collected packages: snuggs, cligj, click-plugins, affine, rasterio, pyproj, rioxarray\n",
            "Successfully installed affine-2.3.0 click-plugins-1.1.1 cligj-0.7.2 pyproj-3.2.1 rasterio-1.2.10 rioxarray-0.8.0 snuggs-1.4.7\n"
          ]
        }
      ]
    },
    {
      "cell_type": "code",
      "metadata": {
        "colab": {
          "base_uri": "https://localhost:8080/"
        },
        "id": "bXnb0pRFBVSe",
        "outputId": "76deb1a7-91a5-4150-e069-0612c59ab9cb"
      },
      "source": [
        "pip install geopandas"
      ],
      "execution_count": 4,
      "outputs": [
        {
          "output_type": "stream",
          "name": "stdout",
          "text": [
            "Collecting geopandas\n",
            "  Downloading geopandas-0.10.2-py2.py3-none-any.whl (1.0 MB)\n",
            "\u001b[K     |████████████████████████████████| 1.0 MB 28.8 MB/s \n",
            "\u001b[?25hCollecting fiona>=1.8\n",
            "  Downloading Fiona-1.8.20-cp37-cp37m-manylinux1_x86_64.whl (15.4 MB)\n",
            "\u001b[K     |████████████████████████████████| 15.4 MB 37 kB/s \n",
            "\u001b[?25hRequirement already satisfied: shapely>=1.6 in /usr/local/lib/python3.7/dist-packages (from geopandas) (1.7.1)\n",
            "Requirement already satisfied: pandas>=0.25.0 in /usr/local/lib/python3.7/dist-packages (from geopandas) (1.1.5)\n",
            "Requirement already satisfied: pyproj>=2.2.0 in /usr/local/lib/python3.7/dist-packages (from geopandas) (3.2.1)\n",
            "Requirement already satisfied: certifi in /usr/local/lib/python3.7/dist-packages (from fiona>=1.8->geopandas) (2021.5.30)\n",
            "Requirement already satisfied: click>=4.0 in /usr/local/lib/python3.7/dist-packages (from fiona>=1.8->geopandas) (7.1.2)\n",
            "Requirement already satisfied: click-plugins>=1.0 in /usr/local/lib/python3.7/dist-packages (from fiona>=1.8->geopandas) (1.1.1)\n",
            "Requirement already satisfied: cligj>=0.5 in /usr/local/lib/python3.7/dist-packages (from fiona>=1.8->geopandas) (0.7.2)\n",
            "Requirement already satisfied: setuptools in /usr/local/lib/python3.7/dist-packages (from fiona>=1.8->geopandas) (57.4.0)\n",
            "Requirement already satisfied: attrs>=17 in /usr/local/lib/python3.7/dist-packages (from fiona>=1.8->geopandas) (21.2.0)\n",
            "Requirement already satisfied: six>=1.7 in /usr/local/lib/python3.7/dist-packages (from fiona>=1.8->geopandas) (1.15.0)\n",
            "Collecting munch\n",
            "  Downloading munch-2.5.0-py2.py3-none-any.whl (10 kB)\n",
            "Requirement already satisfied: python-dateutil>=2.7.3 in /usr/local/lib/python3.7/dist-packages (from pandas>=0.25.0->geopandas) (2.8.2)\n",
            "Requirement already satisfied: numpy>=1.15.4 in /usr/local/lib/python3.7/dist-packages (from pandas>=0.25.0->geopandas) (1.19.5)\n",
            "Requirement already satisfied: pytz>=2017.2 in /usr/local/lib/python3.7/dist-packages (from pandas>=0.25.0->geopandas) (2018.9)\n",
            "Installing collected packages: munch, fiona, geopandas\n",
            "Successfully installed fiona-1.8.20 geopandas-0.10.2 munch-2.5.0\n"
          ]
        }
      ]
    },
    {
      "cell_type": "code",
      "metadata": {
        "id": "6RLPNmrGiKmL"
      },
      "source": [
        "#### Dependencies\n",
        "import numpy as np\n",
        "import pandas as pd\n",
        "import rasterio \n",
        "import xarray as xr\n",
        "import geopandas as gpd\n",
        "import glob\n",
        "import rioxarray as rio\n",
        "from scipy.stats import variation \n",
        "import rasterio.mask"
      ],
      "execution_count": 5,
      "outputs": []
    },
    {
      "cell_type": "code",
      "metadata": {
        "id": "zvU8PwHlOPfC"
      },
      "source": [
        "#### File Paths & FNs\n",
        "DATA_PATH = '/content/drive/MyDrive/PopGrid-Compare/'\n",
        "DATA_PATH_OUT = '/content/drive/MyDrive/pop/'"
      ],
      "execution_count": 7,
      "outputs": []
    },
    {
      "cell_type": "code",
      "metadata": {
        "id": "eNW80iJYOR6_"
      },
      "source": [
        "def raster_clip(rst_fn, polys, in_ext, out_ext):\n",
        "    \n",
        "    \"\"\" function clips a raster and saves it out\n",
        "    args:\n",
        "        rst_fn = raster you want to clip\n",
        "        polys = polys you want to clip to\n",
        "        in_ext = tail of .tif file to clip off\n",
        "        out_ext = tail of .tif file for saving out \n",
        "    \"\"\"\n",
        "    \n",
        "    # Get raster name\n",
        "        #rst_nm = rst_fn.split('interim\\\\')[1].split('.tif')[0]\n",
        "        #data = rst_fn.split(DATA_PATH+'interim/')[1].split(in_ext)[0]\n",
        "\n",
        "    data = rst_fn.split(DATA_PATH+'interim/')[1].split(in_ext)[0]\n",
        "    fn_out = DATA_PATH_OUT+'interim/'+data+out_ext\n",
        "    print(fn_out)\n",
        "    \n",
        "    # clip raster\n",
        "    with rasterio.open(rst_fn) as src:\n",
        "        out_image, out_transform = rasterio.mask.mask(src, polys, crop=True)\n",
        "        out_meta = src.meta\n",
        "        \n",
        "    # Update meta data\n",
        "    out_meta.update({\"driver\": \"GTiff\",\n",
        "                 \"height\": out_image.shape[1],\n",
        "                 \"width\": out_image.shape[2],\n",
        "                 \"transform\": out_transform})\n",
        "    \n",
        "    # write image \n",
        "    with rasterio.open(fn_out, \"w\", **out_meta) as dest:\n",
        "        dest.write(out_image)"
      ],
      "execution_count": 8,
      "outputs": []
    },
    {
      "cell_type": "code",
      "metadata": {
        "colab": {
          "base_uri": "https://localhost:8080/"
        },
        "id": "BSh0DeG8OUHP",
        "outputId": "e83e7e46-bdcb-4117-85af-95446e54e400"
      },
      "source": [
        "#### Matched Rasters \n",
        "rst_fns = glob.glob('/content/drive/MyDrive/PopGrid-Compare/interim/*_matched.tif')\n",
        "rst_fns\n",
        "\n",
        "# Open polys\n",
        "country = '_EGY.tif'#'_NPL.tif'#'_ECU.tif'#'_MMZ.tif'#'_NPL.tif'\n",
        "polys_fn = DATA_PATH_OUT+ 'interim/EGY.shp'#'interim/chile_quake_pop.shp' #'interim/M-M-Z-0.shp'\n",
        "#hazem-polys_fn = DATA_PATH+ 'interim/M-M-Z-0.shp'#gwpv4_npl_admin4.shp'#'interim/ECU-clip0.shp' #'interim/M-M-Z-0.shp'\n",
        "polys = gpd.read_file(polys_fn)\n",
        "shapes = polys[\"geometry\"]\n",
        "\n",
        "in_ext = '_matched.tif'\n",
        "out_ext = '_all'+country\n",
        "for rst_fn in rst_fns:\n",
        "    raster_clip(rst_fn, shapes, in_ext, out_ext)"
      ],
      "execution_count": 11,
      "outputs": [
        {
          "output_type": "stream",
          "name": "stdout",
          "text": [
            "/content/drive/MyDrive/pop/interim/WP16_all_EGY.tif\n",
            "/content/drive/MyDrive/pop/interim/LS15_all_EGY.tif\n",
            "/content/drive/MyDrive/pop/interim/GPWv4_all_EGY.tif\n",
            "/content/drive/MyDrive/pop/interim/GHS15_all_EGY.tif\n",
            "/content/drive/MyDrive/pop/interim/ESRI16_all_EGY.tif\n"
          ]
        }
      ]
    },
    {
      "cell_type": "code",
      "metadata": {
        "id": "soaUxUkHOWEP"
      },
      "source": [
        "#### Urban Rasters \n",
        "rst_fns = glob.glob('/content/drive/MyDrive/PopGrid-Compare/interim/*_urban.tif')\n",
        "rst_fns\n",
        "\n",
        "in_ext = 'matched_urban.tif'\n",
        "out_ext = 'urban'+country\n",
        "for rst_fn in rst_fns:\n",
        "    raster_clip(rst_fn, shapes, in_ext, out_ext)"
      ],
      "execution_count": 12,
      "outputs": []
    },
    {
      "cell_type": "code",
      "metadata": {
        "colab": {
          "base_uri": "https://localhost:8080/"
        },
        "id": "hnUy-FbpOYQR",
        "outputId": "addd7016-7d87-457a-ecd6-b8b87785e7df"
      },
      "source": [
        "#### Rural Rasters \n",
        "rst_fns = glob.glob('/content/drive/MyDrive/pop/interim/*_rural.tif')\n",
        "rst_fns\n",
        "\n",
        "in_ext = 'matched_rural.tif'\n",
        "out_ext = 'rural'+country\n",
        "for rst_fn in rst_fns:\n",
        "    raster_clip(rst_fn, shapes, in_ext, out_ext)"
      ],
      "execution_count": null,
      "outputs": [
        {
          "output_type": "stream",
          "name": "stdout",
          "text": [
            "/content/drive/MyDrive/pop/interim/GPWv4_rural_EGY.tif\n"
          ]
        }
      ]
    },
    {
      "cell_type": "code",
      "metadata": {
        "colab": {
          "base_uri": "https://localhost:8080/"
        },
        "id": "sp-ZtW_Cjuad",
        "outputId": "be2a585b-cf39-4b2b-f8ee-5039d0582a62"
      },
      "source": [
        "#### Rural Rasters \n",
        "rst_fns = glob.glob('/content/drive/MyDrive/pop/interim/*_rural.tif')\n",
        "rst_fns\n",
        "\n",
        "in_ext = 'matched_rural.tif'\n",
        "out_ext = 'rural'+country\n",
        "for rst_fn in rst_fns:\n",
        "    raster_clip(rst_fn, shapes, in_ext, out_ext)"
      ],
      "execution_count": null,
      "outputs": [
        {
          "output_type": "stream",
          "name": "stdout",
          "text": [
            "/content/drive/MyDrive/pop/interim/GPWv4_rural_EGY.tif\n"
          ]
        }
      ]
    },
    {
      "cell_type": "code",
      "metadata": {
        "colab": {
          "base_uri": "https://localhost:8080/"
        },
        "id": "XUE32Q_9OaGI",
        "outputId": "353cc750-bd83-4516-cdad-a57aae60a858"
      },
      "source": [
        "#### Urban Rasters \n",
        "rst_fns = glob.glob('/content/drive/MyDrive/pop/interim/*_urban.tif')\n",
        "rst_fns\n",
        "\n",
        "in_ext = 'matched_urban.tif'\n",
        "out_ext = 'urban'+country\n",
        "for rst_fn in rst_fns:\n",
        "    raster_clip(rst_fn, shapes, in_ext, out_ext)"
      ],
      "execution_count": null,
      "outputs": [
        {
          "output_type": "stream",
          "name": "stdout",
          "text": [
            "/content/drive/MyDrive/pop/interim/GPWv4_urban_EGY.tif\n"
          ]
        }
      ]
    },
    {
      "cell_type": "code",
      "metadata": {
        "id": "LJaZgOsKzUlf"
      },
      "source": [
        "## Quake\n",
        "\n",
        "# By Cascade Tuholske, June 2020\n",
        "\n",
        "# Notebook finds zonal stats of populations for 2015 Nepal earthquakes by raster. <br><br>\n",
        "# **NOTE** CRS should be epsg:4326 for everything!"
      ],
      "execution_count": null,
      "outputs": []
    },
    {
      "cell_type": "code",
      "metadata": {
        "colab": {
          "base_uri": "https://localhost:8080/"
        },
        "id": "u4MP1amFjfEx",
        "outputId": "8ea80798-6179-482e-8f91-40d1c981f68a"
      },
      "source": [
        "pip install rasterstats"
      ],
      "execution_count": null,
      "outputs": [
        {
          "output_type": "stream",
          "name": "stdout",
          "text": [
            "Collecting rasterstats\n",
            "  Downloading rasterstats-0.15.0-py3-none-any.whl (16 kB)\n",
            "Requirement already satisfied: fiona in /usr/local/lib/python3.7/dist-packages (from rasterstats) (1.8.20)\n",
            "Requirement already satisfied: affine<3.0 in /usr/local/lib/python3.7/dist-packages (from rasterstats) (2.3.0)\n",
            "Collecting simplejson\n",
            "  Downloading simplejson-3.17.5-cp37-cp37m-manylinux_2_5_x86_64.manylinux1_x86_64.manylinux_2_12_x86_64.manylinux2010_x86_64.whl (129 kB)\n",
            "\u001b[K     |████████████████████████████████| 129 kB 9.1 MB/s \n",
            "\u001b[?25hRequirement already satisfied: rasterio>=1.0 in /usr/local/lib/python3.7/dist-packages (from rasterstats) (1.2.10)\n",
            "Requirement already satisfied: shapely in /usr/local/lib/python3.7/dist-packages (from rasterstats) (1.7.1)\n",
            "Requirement already satisfied: numpy>=1.9 in /usr/local/lib/python3.7/dist-packages (from rasterstats) (1.19.5)\n",
            "Requirement already satisfied: cligj>=0.4 in /usr/local/lib/python3.7/dist-packages (from rasterstats) (0.7.2)\n",
            "Requirement already satisfied: click>=4.0 in /usr/local/lib/python3.7/dist-packages (from cligj>=0.4->rasterstats) (7.1.2)\n",
            "Requirement already satisfied: click-plugins in /usr/local/lib/python3.7/dist-packages (from rasterio>=1.0->rasterstats) (1.1.1)\n",
            "Requirement already satisfied: attrs in /usr/local/lib/python3.7/dist-packages (from rasterio>=1.0->rasterstats) (21.2.0)\n",
            "Requirement already satisfied: snuggs>=1.4.1 in /usr/local/lib/python3.7/dist-packages (from rasterio>=1.0->rasterstats) (1.4.7)\n",
            "Requirement already satisfied: setuptools in /usr/local/lib/python3.7/dist-packages (from rasterio>=1.0->rasterstats) (57.4.0)\n",
            "Requirement already satisfied: certifi in /usr/local/lib/python3.7/dist-packages (from rasterio>=1.0->rasterstats) (2021.5.30)\n",
            "Requirement already satisfied: pyparsing>=2.1.6 in /usr/local/lib/python3.7/dist-packages (from snuggs>=1.4.1->rasterio>=1.0->rasterstats) (2.4.7)\n",
            "Requirement already satisfied: munch in /usr/local/lib/python3.7/dist-packages (from fiona->rasterstats) (2.5.0)\n",
            "Requirement already satisfied: six>=1.7 in /usr/local/lib/python3.7/dist-packages (from fiona->rasterstats) (1.15.0)\n",
            "Installing collected packages: simplejson, rasterstats\n",
            "Successfully installed rasterstats-0.15.0 simplejson-3.17.5\n"
          ]
        }
      ]
    },
    {
      "cell_type": "code",
      "metadata": {
        "id": "i9qpq9WKj-HC"
      },
      "source": [
        "#### Dependencies\n",
        "import numpy as np\n",
        "import pandas as pd\n",
        "import rasterio\n",
        "import geopandas as gpd\n",
        "from rasterstats import zonal_stats, gen_zonal_stats\n",
        "from glob import glob\n",
        "from matplotlib import pyplot as plt\n",
        "import matplotlib.patches as patches\n",
        "Patch = patches.Patch"
      ],
      "execution_count": null,
      "outputs": []
    },
    {
      "cell_type": "code",
      "metadata": {
        "id": "4Ptx8t-HkAcO"
      },
      "source": [
        "#### Functions\n",
        "def zone_loop(polys_in, rst_list, stats_type, col, split):\n",
        "    \"\"\" Function loops through rasters, calcs zonal_stats and returns stats as a data frame.\n",
        "    Args:\n",
        "        polys_in = polygons\n",
        "        rst_list = list of paths & fns of rasters\n",
        "        stats_type = stats type for each poly gone (see zonal stats)\n",
        "        col = column to merge it all\n",
        "        split = where to split the file name string (e.g. _matched.tif)\n",
        "    \"\"\"\n",
        "    \n",
        "    # copy polys to write out\n",
        "    polys_out = polys_in.copy()\n",
        "    \n",
        "    for rst in rst_list:\n",
        "        \n",
        "        # Get data name\n",
        "        data = rst.split(DATA_PATH+'interim/')[1].split(split)[0]\n",
        "        print('Started', data)\n",
        "        \n",
        "        # Run zonal stats\n",
        "        zs_feats = zonal_stats(polys_in, rst, stats=stats_type, geojson_out=True)\n",
        "        zgdf = gpd.GeoDataFrame.from_features(zs_feats, crs=polys_in.crs)\n",
        "        \n",
        "        # Rename columns and merge\n",
        "        zgdf = zgdf.rename(columns={stats_type: data+'_'+stats_type})\n",
        "        \n",
        "        polys_out = polys_out.merge(zgdf[[col, data+'_'+stats_type]], on = col, how = 'inner')\n",
        "    \n",
        "    return polys_out"
      ],
      "execution_count": null,
      "outputs": []
    },
    {
      "cell_type": "code",
      "metadata": {
        "id": "K3Ez_EBykDLh"
      },
      "source": [
        "def poly_prep(polys_fn, col):\n",
        "    \"function opens earth quake polygons for zonal loop\"\n",
        "    \n",
        "    # open\n",
        "    polys = gpd.read_file(polys_fn)\n",
        "    \n",
        "    # subset, be sure to check the admin level\n",
        "    polys = polys[['geometry', col]]\n",
        "    \n",
        "    return polys"
      ],
      "execution_count": null,
      "outputs": []
    },
    {
      "cell_type": "code",
      "metadata": {
        "id": "glwr137Y04Wq"
      },
      "source": [
        "## Run on Shakemap Intensity Contours (MI) from USGS for this example: Nepal 2015\n"
      ],
      "execution_count": null,
      "outputs": []
    },
    {
      "cell_type": "code",
      "metadata": {
        "id": "IhTFg9gw1GkX"
      },
      "source": [
        "#### All"
      ],
      "execution_count": null,
      "outputs": []
    },
    {
      "cell_type": "code",
      "metadata": {
        "colab": {
          "base_uri": "https://localhost:8080/"
        },
        "id": "Bhx7f9c0kInO",
        "outputId": "29bb5400-6d23-4d43-e687-0964cd2d1b3d"
      },
      "source": [
        "# open polys\n",
        "DATA_PATH = '/content/drive/MyDrive/pop/'\n",
        "nepal_polys_fn = DATA_PATH+'interim/shakemap/mi.shp'\n",
        "\n",
        "col = 'PARAMVALUE'\n",
        "nepal_polys = poly_prep(nepal_polys_fn, col)\n",
        "print (nepal_polys)"
      ],
      "execution_count": null,
      "outputs": [
        {
          "output_type": "stream",
          "name": "stdout",
          "text": [
            "                                             geometry  PARAMVALUE\n",
            "0   MULTIPOLYGON (((32.52517 28.99167, 32.52510 28...         3.6\n",
            "1   MULTIPOLYGON (((32.61249 30.95833, 32.61118 30...         3.8\n",
            "2   MULTIPOLYGON (((30.19517 30.81667, 30.19349 30...         4.0\n",
            "3   MULTIPOLYGON (((31.42556 30.93333, 31.42560 30...         4.2\n",
            "4   MULTIPOLYGON (((31.39298 30.65833, 31.39246 30...         4.4\n",
            "5   MULTIPOLYGON (((31.26388 30.45000, 31.25932 30...         4.6\n",
            "6   MULTIPOLYGON (((31.10926 30.30833, 31.10892 30...         4.8\n",
            "7   MULTIPOLYGON (((31.11246 30.30833, 31.11097 30...         5.0\n",
            "8   MULTIPOLYGON (((30.98132 30.21667, 30.97946 30...         5.2\n",
            "9   MULTIPOLYGON (((31.21830 30.13333, 31.21823 30...         5.4\n",
            "10  MULTIPOLYGON (((31.22086 30.13333, 31.22070 30...         5.6\n",
            "11  MULTIPOLYGON (((31.23997 30.11667, 31.23756 30...         5.8\n",
            "12  MULTIPOLYGON (((31.28398 30.04167, 31.28364 30...         6.0\n",
            "13  MULTIPOLYGON (((31.15894 30.00833, 31.15862 30...         6.2\n",
            "14  MULTIPOLYGON (((31.35533 29.98333, 31.35178 29...         6.4\n",
            "15  MULTIPOLYGON (((31.23500 29.99167, 31.23430 29...         6.6\n",
            "16  MULTIPOLYGON (((31.18622 29.90833, 31.18482 29...         6.8\n",
            "17  MULTIPOLYGON (((31.15000 29.53204, 31.14913 29...         7.0\n",
            "18  MULTIPOLYGON (((31.20136 29.80000, 31.20061 29...         7.2\n",
            "19  MULTIPOLYGON (((31.21681 29.71667, 31.21674 29...         7.4\n",
            "20  MULTIPOLYGON (((31.25000 29.69503, 31.24638 29...         7.6\n"
          ]
        }
      ]
    },
    {
      "cell_type": "code",
      "metadata": {
        "colab": {
          "base_uri": "https://localhost:8080/"
        },
        "id": "qpNWPWKHkLy-",
        "outputId": "d9fc64de-be61-4373-85ae-b8fd441896ec"
      },
      "source": [
        "# Git tif files\n",
        "rst_fns = sorted(glob(DATA_PATH+'interim/*all_EGY.tif'))\n",
        "rst_fns"
      ],
      "execution_count": null,
      "outputs": [
        {
          "output_type": "execute_result",
          "data": {
            "text/plain": [
              "['/content/drive/MyDrive/pop/interim/GPWv4_all_EGY.tif']"
            ]
          },
          "metadata": {},
          "execution_count": 25
        }
      ]
    },
    {
      "cell_type": "code",
      "metadata": {
        "colab": {
          "base_uri": "https://localhost:8080/"
        },
        "id": "nIL2IicikNoO",
        "outputId": "6ea4321c-0878-4ac4-bbc8-f95c99b4ef96"
      },
      "source": [
        "# Run zonal stats loop\n",
        "nepal_polys_sum = zone_loop(nepal_polys, rst_fns, 'sum', col, '_all_EGY.tif')"
      ],
      "execution_count": null,
      "outputs": [
        {
          "output_type": "stream",
          "name": "stdout",
          "text": [
            "Started GPWv4\n"
          ]
        }
      ]
    },
    {
      "cell_type": "code",
      "metadata": {
        "id": "FXKEbBFRkPST"
      },
      "source": [
        "# Save the poly sums\n",
        "nepal_polys_sum.to_file(DATA_PATH+'/interim/EGY_quake_pop.shp')"
      ],
      "execution_count": null,
      "outputs": []
    },
    {
      "cell_type": "code",
      "metadata": {
        "id": "SaKqQtBk1Mj8"
      },
      "source": [
        "#### Urban"
      ],
      "execution_count": null,
      "outputs": []
    },
    {
      "cell_type": "code",
      "metadata": {
        "id": "K0DxT3BFkQv5"
      },
      "source": [
        "# open polys\n",
        "DATA_PATH = '/content/drive/MyDrive/pop/'\n",
        "nepal_polys_fn = DATA_PATH+'interim/shakemap/mi.shp'\n",
        "\n",
        "col = 'PARAMVALUE'\n",
        "nepal_polys = poly_prep(nepal_polys_fn, col)\n"
      ],
      "execution_count": null,
      "outputs": []
    },
    {
      "cell_type": "code",
      "metadata": {
        "colab": {
          "base_uri": "https://localhost:8080/"
        },
        "id": "1uH5U4JKkSTY",
        "outputId": "a5f3c3e8-5709-476c-9587-00f86465dde8"
      },
      "source": [
        "# Git tif files\n",
        "rst_fns = sorted(glob(DATA_PATH+'interim/*_urban_EGY.tif'))\n",
        "rst_fns"
      ],
      "execution_count": null,
      "outputs": [
        {
          "output_type": "execute_result",
          "data": {
            "text/plain": [
              "['/content/drive/MyDrive/pop/interim/GPWv4_urban_EGY.tif']"
            ]
          },
          "metadata": {},
          "execution_count": 30
        }
      ]
    },
    {
      "cell_type": "code",
      "metadata": {
        "colab": {
          "base_uri": "https://localhost:8080/"
        },
        "id": "G7autbqDkT-a",
        "outputId": "be3fdfc4-46b5-43e5-862c-b634649e7660"
      },
      "source": [
        "# Run zonal stats loop\n",
        "nepal_polys_sum = zone_loop(nepal_polys, rst_fns, 'sum', col, '_urban_EGY.tif')\n"
      ],
      "execution_count": null,
      "outputs": [
        {
          "output_type": "stream",
          "name": "stdout",
          "text": [
            "Started GPWv4\n"
          ]
        }
      ]
    },
    {
      "cell_type": "code",
      "metadata": {
        "id": "0WqARnEmkVfr"
      },
      "source": [
        "#### Save the poly sums\n",
        "nepal_polys_sum.to_file(DATA_PATH+'/interim/EGY_urban_quake_pop.shp')"
      ],
      "execution_count": null,
      "outputs": []
    },
    {
      "cell_type": "code",
      "metadata": {
        "id": "yp7QSikm1Pt-"
      },
      "source": [
        "#### Rural"
      ],
      "execution_count": null,
      "outputs": []
    },
    {
      "cell_type": "code",
      "metadata": {
        "id": "No7g2-D_kW1y"
      },
      "source": [
        "# open polys\n",
        "DATA_PATH = '/content/drive/MyDrive/pop/'\n",
        "nepal_polys_fn = DATA_PATH+'interim/shakemap/mi.shp'\n",
        "\n",
        "col = 'PARAMVALUE'\n",
        "nepal_polys = poly_prep(nepal_polys_fn, col)\n"
      ],
      "execution_count": null,
      "outputs": []
    },
    {
      "cell_type": "code",
      "metadata": {
        "colab": {
          "base_uri": "https://localhost:8080/"
        },
        "id": "Xp3VY-2okYUx",
        "outputId": "3a4a491a-44c0-4290-87cc-1f8d83d61339"
      },
      "source": [
        "# Git tif files\n",
        "rst_fns = glob(DATA_PATH+'interim/*_rural_EGY.tif')\n",
        "rst_fns"
      ],
      "execution_count": null,
      "outputs": [
        {
          "output_type": "execute_result",
          "data": {
            "text/plain": [
              "['/content/drive/MyDrive/pop/interim/GPWv4_rural_EGY.tif']"
            ]
          },
          "metadata": {},
          "execution_count": 35
        }
      ]
    },
    {
      "cell_type": "code",
      "metadata": {
        "colab": {
          "base_uri": "https://localhost:8080/"
        },
        "id": "bKJpW-tUkaKI",
        "outputId": "9674f7de-8c41-4fc2-c76b-c533b795470a"
      },
      "source": [
        "# Run zonal stats loop\n",
        "nepal_polys_sum = zone_loop(nepal_polys, rst_fns, 'sum', col, '_rural_EGY.tif')\n"
      ],
      "execution_count": null,
      "outputs": [
        {
          "output_type": "stream",
          "name": "stdout",
          "text": [
            "Started GPWv4\n"
          ]
        }
      ]
    },
    {
      "cell_type": "code",
      "metadata": {
        "id": "0WSCvEyzkbzO"
      },
      "source": [
        "#### Save the poly sums\n",
        "nepal_polys_sum.to_file(DATA_PATH+'/interim/EGY_rural_quake_pop.shp')"
      ],
      "execution_count": null,
      "outputs": []
    },
    {
      "cell_type": "code",
      "metadata": {
        "id": "qa9btLzQ1UtT"
      },
      "source": [
        "# Check data"
      ],
      "execution_count": null,
      "outputs": []
    },
    {
      "cell_type": "code",
      "metadata": {
        "colab": {
          "base_uri": "https://localhost:8080/",
          "height": 700
        },
        "id": "Sp_P0pTqkczM",
        "outputId": "951ff5ae-c5c3-46b5-9acd-ea6a48d52e6f"
      },
      "source": [
        "# All\n",
        "fn_in = DATA_PATH+'/interim/EGY_quake_pop.shp'\n",
        "all_pop = gpd.read_file(fn_in)\n",
        "all_pop"
      ],
      "execution_count": null,
      "outputs": [
        {
          "output_type": "execute_result",
          "data": {
            "text/html": [
              "<div>\n",
              "<style scoped>\n",
              "    .dataframe tbody tr th:only-of-type {\n",
              "        vertical-align: middle;\n",
              "    }\n",
              "\n",
              "    .dataframe tbody tr th {\n",
              "        vertical-align: top;\n",
              "    }\n",
              "\n",
              "    .dataframe thead th {\n",
              "        text-align: right;\n",
              "    }\n",
              "</style>\n",
              "<table border=\"1\" class=\"dataframe\">\n",
              "  <thead>\n",
              "    <tr style=\"text-align: right;\">\n",
              "      <th></th>\n",
              "      <th>PARAMVALUE</th>\n",
              "      <th>GPWv4_sum</th>\n",
              "      <th>geometry</th>\n",
              "    </tr>\n",
              "  </thead>\n",
              "  <tbody>\n",
              "    <tr>\n",
              "      <th>0</th>\n",
              "      <td>3.6</td>\n",
              "      <td>5.035049e+02</td>\n",
              "      <td>MULTIPOLYGON (((32.52517 28.99167, 32.52510 28...</td>\n",
              "    </tr>\n",
              "    <tr>\n",
              "      <th>1</th>\n",
              "      <td>3.8</td>\n",
              "      <td>1.819472e+04</td>\n",
              "      <td>MULTIPOLYGON (((32.61249 30.95833, 32.61118 30...</td>\n",
              "    </tr>\n",
              "    <tr>\n",
              "      <th>2</th>\n",
              "      <td>4.0</td>\n",
              "      <td>3.038170e+05</td>\n",
              "      <td>MULTIPOLYGON (((30.19517 30.81667, 30.19349 30...</td>\n",
              "    </tr>\n",
              "    <tr>\n",
              "      <th>3</th>\n",
              "      <td>4.2</td>\n",
              "      <td>4.066633e+06</td>\n",
              "      <td>MULTIPOLYGON (((31.42556 30.93333, 31.42560 30...</td>\n",
              "    </tr>\n",
              "    <tr>\n",
              "      <th>4</th>\n",
              "      <td>4.4</td>\n",
              "      <td>9.185887e+06</td>\n",
              "      <td>MULTIPOLYGON (((31.39298 30.65833, 31.39246 30...</td>\n",
              "    </tr>\n",
              "    <tr>\n",
              "      <th>5</th>\n",
              "      <td>4.6</td>\n",
              "      <td>6.112728e+06</td>\n",
              "      <td>MULTIPOLYGON (((31.26388 30.45000, 31.25932 30...</td>\n",
              "    </tr>\n",
              "    <tr>\n",
              "      <th>6</th>\n",
              "      <td>4.8</td>\n",
              "      <td>2.736531e+06</td>\n",
              "      <td>MULTIPOLYGON (((31.10926 30.30833, 31.10892 30...</td>\n",
              "    </tr>\n",
              "    <tr>\n",
              "      <th>7</th>\n",
              "      <td>5.0</td>\n",
              "      <td>9.968886e+05</td>\n",
              "      <td>MULTIPOLYGON (((31.11246 30.30833, 31.11097 30...</td>\n",
              "    </tr>\n",
              "    <tr>\n",
              "      <th>8</th>\n",
              "      <td>5.2</td>\n",
              "      <td>1.024392e+06</td>\n",
              "      <td>MULTIPOLYGON (((30.98132 30.21667, 30.97946 30...</td>\n",
              "    </tr>\n",
              "    <tr>\n",
              "      <th>9</th>\n",
              "      <td>5.4</td>\n",
              "      <td>1.707366e+06</td>\n",
              "      <td>MULTIPOLYGON (((31.21830 30.13333, 31.21823 30...</td>\n",
              "    </tr>\n",
              "    <tr>\n",
              "      <th>10</th>\n",
              "      <td>5.6</td>\n",
              "      <td>2.607141e+06</td>\n",
              "      <td>MULTIPOLYGON (((31.22086 30.13333, 31.22070 30...</td>\n",
              "    </tr>\n",
              "    <tr>\n",
              "      <th>11</th>\n",
              "      <td>5.8</td>\n",
              "      <td>2.761101e+06</td>\n",
              "      <td>MULTIPOLYGON (((31.23997 30.11667, 31.23756 30...</td>\n",
              "    </tr>\n",
              "    <tr>\n",
              "      <th>12</th>\n",
              "      <td>6.0</td>\n",
              "      <td>3.548400e+06</td>\n",
              "      <td>MULTIPOLYGON (((31.28398 30.04167, 31.28364 30...</td>\n",
              "    </tr>\n",
              "    <tr>\n",
              "      <th>13</th>\n",
              "      <td>6.2</td>\n",
              "      <td>3.704566e+06</td>\n",
              "      <td>MULTIPOLYGON (((31.15894 30.00833, 31.15862 30...</td>\n",
              "    </tr>\n",
              "    <tr>\n",
              "      <th>14</th>\n",
              "      <td>6.4</td>\n",
              "      <td>2.802621e+06</td>\n",
              "      <td>MULTIPOLYGON (((31.35533 29.98333, 31.35178 29...</td>\n",
              "    </tr>\n",
              "    <tr>\n",
              "      <th>15</th>\n",
              "      <td>6.6</td>\n",
              "      <td>2.237560e+06</td>\n",
              "      <td>MULTIPOLYGON (((31.23500 29.99167, 31.23430 29...</td>\n",
              "    </tr>\n",
              "    <tr>\n",
              "      <th>16</th>\n",
              "      <td>6.8</td>\n",
              "      <td>1.038975e+06</td>\n",
              "      <td>MULTIPOLYGON (((31.18622 29.90833, 31.18482 29...</td>\n",
              "    </tr>\n",
              "    <tr>\n",
              "      <th>17</th>\n",
              "      <td>7.0</td>\n",
              "      <td>8.745232e+05</td>\n",
              "      <td>MULTIPOLYGON (((31.15000 29.53204, 31.14913 29...</td>\n",
              "    </tr>\n",
              "    <tr>\n",
              "      <th>18</th>\n",
              "      <td>7.2</td>\n",
              "      <td>9.444928e+05</td>\n",
              "      <td>MULTIPOLYGON (((31.20136 29.80000, 31.20061 29...</td>\n",
              "    </tr>\n",
              "    <tr>\n",
              "      <th>19</th>\n",
              "      <td>7.4</td>\n",
              "      <td>7.546892e+05</td>\n",
              "      <td>MULTIPOLYGON (((31.21681 29.71667, 31.21674 29...</td>\n",
              "    </tr>\n",
              "    <tr>\n",
              "      <th>20</th>\n",
              "      <td>7.6</td>\n",
              "      <td>1.168303e+05</td>\n",
              "      <td>MULTIPOLYGON (((31.25000 29.69503, 31.24638 29...</td>\n",
              "    </tr>\n",
              "  </tbody>\n",
              "</table>\n",
              "</div>"
            ],
            "text/plain": [
              "    PARAMVALUE     GPWv4_sum                                           geometry\n",
              "0          3.6  5.035049e+02  MULTIPOLYGON (((32.52517 28.99167, 32.52510 28...\n",
              "1          3.8  1.819472e+04  MULTIPOLYGON (((32.61249 30.95833, 32.61118 30...\n",
              "2          4.0  3.038170e+05  MULTIPOLYGON (((30.19517 30.81667, 30.19349 30...\n",
              "3          4.2  4.066633e+06  MULTIPOLYGON (((31.42556 30.93333, 31.42560 30...\n",
              "4          4.4  9.185887e+06  MULTIPOLYGON (((31.39298 30.65833, 31.39246 30...\n",
              "5          4.6  6.112728e+06  MULTIPOLYGON (((31.26388 30.45000, 31.25932 30...\n",
              "6          4.8  2.736531e+06  MULTIPOLYGON (((31.10926 30.30833, 31.10892 30...\n",
              "7          5.0  9.968886e+05  MULTIPOLYGON (((31.11246 30.30833, 31.11097 30...\n",
              "8          5.2  1.024392e+06  MULTIPOLYGON (((30.98132 30.21667, 30.97946 30...\n",
              "9          5.4  1.707366e+06  MULTIPOLYGON (((31.21830 30.13333, 31.21823 30...\n",
              "10         5.6  2.607141e+06  MULTIPOLYGON (((31.22086 30.13333, 31.22070 30...\n",
              "11         5.8  2.761101e+06  MULTIPOLYGON (((31.23997 30.11667, 31.23756 30...\n",
              "12         6.0  3.548400e+06  MULTIPOLYGON (((31.28398 30.04167, 31.28364 30...\n",
              "13         6.2  3.704566e+06  MULTIPOLYGON (((31.15894 30.00833, 31.15862 30...\n",
              "14         6.4  2.802621e+06  MULTIPOLYGON (((31.35533 29.98333, 31.35178 29...\n",
              "15         6.6  2.237560e+06  MULTIPOLYGON (((31.23500 29.99167, 31.23430 29...\n",
              "16         6.8  1.038975e+06  MULTIPOLYGON (((31.18622 29.90833, 31.18482 29...\n",
              "17         7.0  8.745232e+05  MULTIPOLYGON (((31.15000 29.53204, 31.14913 29...\n",
              "18         7.2  9.444928e+05  MULTIPOLYGON (((31.20136 29.80000, 31.20061 29...\n",
              "19         7.4  7.546892e+05  MULTIPOLYGON (((31.21681 29.71667, 31.21674 29...\n",
              "20         7.6  1.168303e+05  MULTIPOLYGON (((31.25000 29.69503, 31.24638 29..."
            ]
          },
          "metadata": {},
          "execution_count": 39
        }
      ]
    },
    {
      "cell_type": "code",
      "metadata": {
        "colab": {
          "base_uri": "https://localhost:8080/",
          "height": 700
        },
        "id": "hEUYl2ttkd_W",
        "outputId": "8e07bb0b-03fe-4f53-9869-59b05413f7fb"
      },
      "source": [
        "# All\n",
        "fn_in = DATA_PATH+'/interim/EGY_quake_pop.shp'\n",
        "all_pop = gpd.read_file(fn_in)\n",
        "all_pop"
      ],
      "execution_count": null,
      "outputs": [
        {
          "output_type": "execute_result",
          "data": {
            "text/html": [
              "<div>\n",
              "<style scoped>\n",
              "    .dataframe tbody tr th:only-of-type {\n",
              "        vertical-align: middle;\n",
              "    }\n",
              "\n",
              "    .dataframe tbody tr th {\n",
              "        vertical-align: top;\n",
              "    }\n",
              "\n",
              "    .dataframe thead th {\n",
              "        text-align: right;\n",
              "    }\n",
              "</style>\n",
              "<table border=\"1\" class=\"dataframe\">\n",
              "  <thead>\n",
              "    <tr style=\"text-align: right;\">\n",
              "      <th></th>\n",
              "      <th>PARAMVALUE</th>\n",
              "      <th>GPWv4_sum</th>\n",
              "      <th>geometry</th>\n",
              "    </tr>\n",
              "  </thead>\n",
              "  <tbody>\n",
              "    <tr>\n",
              "      <th>0</th>\n",
              "      <td>3.6</td>\n",
              "      <td>5.035049e+02</td>\n",
              "      <td>MULTIPOLYGON (((32.52517 28.99167, 32.52510 28...</td>\n",
              "    </tr>\n",
              "    <tr>\n",
              "      <th>1</th>\n",
              "      <td>3.8</td>\n",
              "      <td>1.819472e+04</td>\n",
              "      <td>MULTIPOLYGON (((32.61249 30.95833, 32.61118 30...</td>\n",
              "    </tr>\n",
              "    <tr>\n",
              "      <th>2</th>\n",
              "      <td>4.0</td>\n",
              "      <td>3.038170e+05</td>\n",
              "      <td>MULTIPOLYGON (((30.19517 30.81667, 30.19349 30...</td>\n",
              "    </tr>\n",
              "    <tr>\n",
              "      <th>3</th>\n",
              "      <td>4.2</td>\n",
              "      <td>4.066633e+06</td>\n",
              "      <td>MULTIPOLYGON (((31.42556 30.93333, 31.42560 30...</td>\n",
              "    </tr>\n",
              "    <tr>\n",
              "      <th>4</th>\n",
              "      <td>4.4</td>\n",
              "      <td>9.185887e+06</td>\n",
              "      <td>MULTIPOLYGON (((31.39298 30.65833, 31.39246 30...</td>\n",
              "    </tr>\n",
              "    <tr>\n",
              "      <th>5</th>\n",
              "      <td>4.6</td>\n",
              "      <td>6.112728e+06</td>\n",
              "      <td>MULTIPOLYGON (((31.26388 30.45000, 31.25932 30...</td>\n",
              "    </tr>\n",
              "    <tr>\n",
              "      <th>6</th>\n",
              "      <td>4.8</td>\n",
              "      <td>2.736531e+06</td>\n",
              "      <td>MULTIPOLYGON (((31.10926 30.30833, 31.10892 30...</td>\n",
              "    </tr>\n",
              "    <tr>\n",
              "      <th>7</th>\n",
              "      <td>5.0</td>\n",
              "      <td>9.968886e+05</td>\n",
              "      <td>MULTIPOLYGON (((31.11246 30.30833, 31.11097 30...</td>\n",
              "    </tr>\n",
              "    <tr>\n",
              "      <th>8</th>\n",
              "      <td>5.2</td>\n",
              "      <td>1.024392e+06</td>\n",
              "      <td>MULTIPOLYGON (((30.98132 30.21667, 30.97946 30...</td>\n",
              "    </tr>\n",
              "    <tr>\n",
              "      <th>9</th>\n",
              "      <td>5.4</td>\n",
              "      <td>1.707366e+06</td>\n",
              "      <td>MULTIPOLYGON (((31.21830 30.13333, 31.21823 30...</td>\n",
              "    </tr>\n",
              "    <tr>\n",
              "      <th>10</th>\n",
              "      <td>5.6</td>\n",
              "      <td>2.607141e+06</td>\n",
              "      <td>MULTIPOLYGON (((31.22086 30.13333, 31.22070 30...</td>\n",
              "    </tr>\n",
              "    <tr>\n",
              "      <th>11</th>\n",
              "      <td>5.8</td>\n",
              "      <td>2.761101e+06</td>\n",
              "      <td>MULTIPOLYGON (((31.23997 30.11667, 31.23756 30...</td>\n",
              "    </tr>\n",
              "    <tr>\n",
              "      <th>12</th>\n",
              "      <td>6.0</td>\n",
              "      <td>3.548400e+06</td>\n",
              "      <td>MULTIPOLYGON (((31.28398 30.04167, 31.28364 30...</td>\n",
              "    </tr>\n",
              "    <tr>\n",
              "      <th>13</th>\n",
              "      <td>6.2</td>\n",
              "      <td>3.704566e+06</td>\n",
              "      <td>MULTIPOLYGON (((31.15894 30.00833, 31.15862 30...</td>\n",
              "    </tr>\n",
              "    <tr>\n",
              "      <th>14</th>\n",
              "      <td>6.4</td>\n",
              "      <td>2.802621e+06</td>\n",
              "      <td>MULTIPOLYGON (((31.35533 29.98333, 31.35178 29...</td>\n",
              "    </tr>\n",
              "    <tr>\n",
              "      <th>15</th>\n",
              "      <td>6.6</td>\n",
              "      <td>2.237560e+06</td>\n",
              "      <td>MULTIPOLYGON (((31.23500 29.99167, 31.23430 29...</td>\n",
              "    </tr>\n",
              "    <tr>\n",
              "      <th>16</th>\n",
              "      <td>6.8</td>\n",
              "      <td>1.038975e+06</td>\n",
              "      <td>MULTIPOLYGON (((31.18622 29.90833, 31.18482 29...</td>\n",
              "    </tr>\n",
              "    <tr>\n",
              "      <th>17</th>\n",
              "      <td>7.0</td>\n",
              "      <td>8.745232e+05</td>\n",
              "      <td>MULTIPOLYGON (((31.15000 29.53204, 31.14913 29...</td>\n",
              "    </tr>\n",
              "    <tr>\n",
              "      <th>18</th>\n",
              "      <td>7.2</td>\n",
              "      <td>9.444928e+05</td>\n",
              "      <td>MULTIPOLYGON (((31.20136 29.80000, 31.20061 29...</td>\n",
              "    </tr>\n",
              "    <tr>\n",
              "      <th>19</th>\n",
              "      <td>7.4</td>\n",
              "      <td>7.546892e+05</td>\n",
              "      <td>MULTIPOLYGON (((31.21681 29.71667, 31.21674 29...</td>\n",
              "    </tr>\n",
              "    <tr>\n",
              "      <th>20</th>\n",
              "      <td>7.6</td>\n",
              "      <td>1.168303e+05</td>\n",
              "      <td>MULTIPOLYGON (((31.25000 29.69503, 31.24638 29...</td>\n",
              "    </tr>\n",
              "  </tbody>\n",
              "</table>\n",
              "</div>"
            ],
            "text/plain": [
              "    PARAMVALUE     GPWv4_sum                                           geometry\n",
              "0          3.6  5.035049e+02  MULTIPOLYGON (((32.52517 28.99167, 32.52510 28...\n",
              "1          3.8  1.819472e+04  MULTIPOLYGON (((32.61249 30.95833, 32.61118 30...\n",
              "2          4.0  3.038170e+05  MULTIPOLYGON (((30.19517 30.81667, 30.19349 30...\n",
              "3          4.2  4.066633e+06  MULTIPOLYGON (((31.42556 30.93333, 31.42560 30...\n",
              "4          4.4  9.185887e+06  MULTIPOLYGON (((31.39298 30.65833, 31.39246 30...\n",
              "5          4.6  6.112728e+06  MULTIPOLYGON (((31.26388 30.45000, 31.25932 30...\n",
              "6          4.8  2.736531e+06  MULTIPOLYGON (((31.10926 30.30833, 31.10892 30...\n",
              "7          5.0  9.968886e+05  MULTIPOLYGON (((31.11246 30.30833, 31.11097 30...\n",
              "8          5.2  1.024392e+06  MULTIPOLYGON (((30.98132 30.21667, 30.97946 30...\n",
              "9          5.4  1.707366e+06  MULTIPOLYGON (((31.21830 30.13333, 31.21823 30...\n",
              "10         5.6  2.607141e+06  MULTIPOLYGON (((31.22086 30.13333, 31.22070 30...\n",
              "11         5.8  2.761101e+06  MULTIPOLYGON (((31.23997 30.11667, 31.23756 30...\n",
              "12         6.0  3.548400e+06  MULTIPOLYGON (((31.28398 30.04167, 31.28364 30...\n",
              "13         6.2  3.704566e+06  MULTIPOLYGON (((31.15894 30.00833, 31.15862 30...\n",
              "14         6.4  2.802621e+06  MULTIPOLYGON (((31.35533 29.98333, 31.35178 29...\n",
              "15         6.6  2.237560e+06  MULTIPOLYGON (((31.23500 29.99167, 31.23430 29...\n",
              "16         6.8  1.038975e+06  MULTIPOLYGON (((31.18622 29.90833, 31.18482 29...\n",
              "17         7.0  8.745232e+05  MULTIPOLYGON (((31.15000 29.53204, 31.14913 29...\n",
              "18         7.2  9.444928e+05  MULTIPOLYGON (((31.20136 29.80000, 31.20061 29...\n",
              "19         7.4  7.546892e+05  MULTIPOLYGON (((31.21681 29.71667, 31.21674 29...\n",
              "20         7.6  1.168303e+05  MULTIPOLYGON (((31.25000 29.69503, 31.24638 29..."
            ]
          },
          "metadata": {},
          "execution_count": 40
        }
      ]
    },
    {
      "cell_type": "code",
      "metadata": {
        "colab": {
          "base_uri": "https://localhost:8080/",
          "height": 700
        },
        "id": "DRTyU-Ezkndr",
        "outputId": "711bf5ab-825d-4fdf-91d8-e18b9f8e9ff6"
      },
      "source": [
        "# Urban\n",
        "fn_in = DATA_PATH+'/interim/EGY_urban_quake_pop.shp'\n",
        "urban_pop = gpd.read_file(fn_in)\n",
        "urban_pop"
      ],
      "execution_count": null,
      "outputs": [
        {
          "output_type": "execute_result",
          "data": {
            "text/html": [
              "<div>\n",
              "<style scoped>\n",
              "    .dataframe tbody tr th:only-of-type {\n",
              "        vertical-align: middle;\n",
              "    }\n",
              "\n",
              "    .dataframe tbody tr th {\n",
              "        vertical-align: top;\n",
              "    }\n",
              "\n",
              "    .dataframe thead th {\n",
              "        text-align: right;\n",
              "    }\n",
              "</style>\n",
              "<table border=\"1\" class=\"dataframe\">\n",
              "  <thead>\n",
              "    <tr style=\"text-align: right;\">\n",
              "      <th></th>\n",
              "      <th>PARAMVALUE</th>\n",
              "      <th>GPWv4_sum</th>\n",
              "      <th>geometry</th>\n",
              "    </tr>\n",
              "  </thead>\n",
              "  <tbody>\n",
              "    <tr>\n",
              "      <th>0</th>\n",
              "      <td>3.6</td>\n",
              "      <td>0.000000e+00</td>\n",
              "      <td>MULTIPOLYGON (((32.52517 28.99167, 32.52510 28...</td>\n",
              "    </tr>\n",
              "    <tr>\n",
              "      <th>1</th>\n",
              "      <td>3.8</td>\n",
              "      <td>0.000000e+00</td>\n",
              "      <td>MULTIPOLYGON (((32.61249 30.95833, 32.61118 30...</td>\n",
              "    </tr>\n",
              "    <tr>\n",
              "      <th>2</th>\n",
              "      <td>4.0</td>\n",
              "      <td>6.524379e+03</td>\n",
              "      <td>MULTIPOLYGON (((30.19517 30.81667, 30.19349 30...</td>\n",
              "    </tr>\n",
              "    <tr>\n",
              "      <th>3</th>\n",
              "      <td>4.2</td>\n",
              "      <td>4.981944e+05</td>\n",
              "      <td>MULTIPOLYGON (((31.42556 30.93333, 31.42560 30...</td>\n",
              "    </tr>\n",
              "    <tr>\n",
              "      <th>4</th>\n",
              "      <td>4.4</td>\n",
              "      <td>1.317293e+06</td>\n",
              "      <td>MULTIPOLYGON (((31.39298 30.65833, 31.39246 30...</td>\n",
              "    </tr>\n",
              "    <tr>\n",
              "      <th>5</th>\n",
              "      <td>4.6</td>\n",
              "      <td>7.106008e+05</td>\n",
              "      <td>MULTIPOLYGON (((31.26388 30.45000, 31.25932 30...</td>\n",
              "    </tr>\n",
              "    <tr>\n",
              "      <th>6</th>\n",
              "      <td>4.8</td>\n",
              "      <td>1.428273e+05</td>\n",
              "      <td>MULTIPOLYGON (((31.10926 30.30833, 31.10892 30...</td>\n",
              "    </tr>\n",
              "    <tr>\n",
              "      <th>7</th>\n",
              "      <td>5.0</td>\n",
              "      <td>7.202006e+04</td>\n",
              "      <td>MULTIPOLYGON (((31.11246 30.30833, 31.11097 30...</td>\n",
              "    </tr>\n",
              "    <tr>\n",
              "      <th>8</th>\n",
              "      <td>5.2</td>\n",
              "      <td>1.347746e+05</td>\n",
              "      <td>MULTIPOLYGON (((30.98132 30.21667, 30.97946 30...</td>\n",
              "    </tr>\n",
              "    <tr>\n",
              "      <th>9</th>\n",
              "      <td>5.4</td>\n",
              "      <td>2.189375e+05</td>\n",
              "      <td>MULTIPOLYGON (((31.21830 30.13333, 31.21823 30...</td>\n",
              "    </tr>\n",
              "    <tr>\n",
              "      <th>10</th>\n",
              "      <td>5.6</td>\n",
              "      <td>8.654982e+05</td>\n",
              "      <td>MULTIPOLYGON (((31.22086 30.13333, 31.22070 30...</td>\n",
              "    </tr>\n",
              "    <tr>\n",
              "      <th>11</th>\n",
              "      <td>5.8</td>\n",
              "      <td>1.897534e+06</td>\n",
              "      <td>MULTIPOLYGON (((31.23997 30.11667, 31.23756 30...</td>\n",
              "    </tr>\n",
              "    <tr>\n",
              "      <th>12</th>\n",
              "      <td>6.0</td>\n",
              "      <td>2.549367e+06</td>\n",
              "      <td>MULTIPOLYGON (((31.28398 30.04167, 31.28364 30...</td>\n",
              "    </tr>\n",
              "    <tr>\n",
              "      <th>13</th>\n",
              "      <td>6.2</td>\n",
              "      <td>2.860196e+06</td>\n",
              "      <td>MULTIPOLYGON (((31.15894 30.00833, 31.15862 30...</td>\n",
              "    </tr>\n",
              "    <tr>\n",
              "      <th>14</th>\n",
              "      <td>6.4</td>\n",
              "      <td>2.032096e+06</td>\n",
              "      <td>MULTIPOLYGON (((31.35533 29.98333, 31.35178 29...</td>\n",
              "    </tr>\n",
              "    <tr>\n",
              "      <th>15</th>\n",
              "      <td>6.6</td>\n",
              "      <td>1.385610e+06</td>\n",
              "      <td>MULTIPOLYGON (((31.23500 29.99167, 31.23430 29...</td>\n",
              "    </tr>\n",
              "    <tr>\n",
              "      <th>16</th>\n",
              "      <td>6.8</td>\n",
              "      <td>6.573276e+05</td>\n",
              "      <td>MULTIPOLYGON (((31.18622 29.90833, 31.18482 29...</td>\n",
              "    </tr>\n",
              "    <tr>\n",
              "      <th>17</th>\n",
              "      <td>7.0</td>\n",
              "      <td>4.932079e+05</td>\n",
              "      <td>MULTIPOLYGON (((31.15000 29.53204, 31.14913 29...</td>\n",
              "    </tr>\n",
              "    <tr>\n",
              "      <th>18</th>\n",
              "      <td>7.2</td>\n",
              "      <td>4.899215e+05</td>\n",
              "      <td>MULTIPOLYGON (((31.20136 29.80000, 31.20061 29...</td>\n",
              "    </tr>\n",
              "    <tr>\n",
              "      <th>19</th>\n",
              "      <td>7.4</td>\n",
              "      <td>2.710184e+05</td>\n",
              "      <td>MULTIPOLYGON (((31.21681 29.71667, 31.21674 29...</td>\n",
              "    </tr>\n",
              "    <tr>\n",
              "      <th>20</th>\n",
              "      <td>7.6</td>\n",
              "      <td>1.829623e+04</td>\n",
              "      <td>MULTIPOLYGON (((31.25000 29.69503, 31.24638 29...</td>\n",
              "    </tr>\n",
              "  </tbody>\n",
              "</table>\n",
              "</div>"
            ],
            "text/plain": [
              "    PARAMVALUE     GPWv4_sum                                           geometry\n",
              "0          3.6  0.000000e+00  MULTIPOLYGON (((32.52517 28.99167, 32.52510 28...\n",
              "1          3.8  0.000000e+00  MULTIPOLYGON (((32.61249 30.95833, 32.61118 30...\n",
              "2          4.0  6.524379e+03  MULTIPOLYGON (((30.19517 30.81667, 30.19349 30...\n",
              "3          4.2  4.981944e+05  MULTIPOLYGON (((31.42556 30.93333, 31.42560 30...\n",
              "4          4.4  1.317293e+06  MULTIPOLYGON (((31.39298 30.65833, 31.39246 30...\n",
              "5          4.6  7.106008e+05  MULTIPOLYGON (((31.26388 30.45000, 31.25932 30...\n",
              "6          4.8  1.428273e+05  MULTIPOLYGON (((31.10926 30.30833, 31.10892 30...\n",
              "7          5.0  7.202006e+04  MULTIPOLYGON (((31.11246 30.30833, 31.11097 30...\n",
              "8          5.2  1.347746e+05  MULTIPOLYGON (((30.98132 30.21667, 30.97946 30...\n",
              "9          5.4  2.189375e+05  MULTIPOLYGON (((31.21830 30.13333, 31.21823 30...\n",
              "10         5.6  8.654982e+05  MULTIPOLYGON (((31.22086 30.13333, 31.22070 30...\n",
              "11         5.8  1.897534e+06  MULTIPOLYGON (((31.23997 30.11667, 31.23756 30...\n",
              "12         6.0  2.549367e+06  MULTIPOLYGON (((31.28398 30.04167, 31.28364 30...\n",
              "13         6.2  2.860196e+06  MULTIPOLYGON (((31.15894 30.00833, 31.15862 30...\n",
              "14         6.4  2.032096e+06  MULTIPOLYGON (((31.35533 29.98333, 31.35178 29...\n",
              "15         6.6  1.385610e+06  MULTIPOLYGON (((31.23500 29.99167, 31.23430 29...\n",
              "16         6.8  6.573276e+05  MULTIPOLYGON (((31.18622 29.90833, 31.18482 29...\n",
              "17         7.0  4.932079e+05  MULTIPOLYGON (((31.15000 29.53204, 31.14913 29...\n",
              "18         7.2  4.899215e+05  MULTIPOLYGON (((31.20136 29.80000, 31.20061 29...\n",
              "19         7.4  2.710184e+05  MULTIPOLYGON (((31.21681 29.71667, 31.21674 29...\n",
              "20         7.6  1.829623e+04  MULTIPOLYGON (((31.25000 29.69503, 31.24638 29..."
            ]
          },
          "metadata": {},
          "execution_count": 41
        }
      ]
    },
    {
      "cell_type": "code",
      "metadata": {
        "colab": {
          "base_uri": "https://localhost:8080/",
          "height": 700
        },
        "id": "6S3XtwD5korC",
        "outputId": "901badf3-c102-4033-80f2-8e7f97099345"
      },
      "source": [
        "# Urban\n",
        "fn_in = DATA_PATH+'/interim/EGY_rural_quake_pop.shp'\n",
        "rural_pop = gpd.read_file(fn_in)\n",
        "rural_pop"
      ],
      "execution_count": null,
      "outputs": [
        {
          "output_type": "execute_result",
          "data": {
            "text/html": [
              "<div>\n",
              "<style scoped>\n",
              "    .dataframe tbody tr th:only-of-type {\n",
              "        vertical-align: middle;\n",
              "    }\n",
              "\n",
              "    .dataframe tbody tr th {\n",
              "        vertical-align: top;\n",
              "    }\n",
              "\n",
              "    .dataframe thead th {\n",
              "        text-align: right;\n",
              "    }\n",
              "</style>\n",
              "<table border=\"1\" class=\"dataframe\">\n",
              "  <thead>\n",
              "    <tr style=\"text-align: right;\">\n",
              "      <th></th>\n",
              "      <th>PARAMVALUE</th>\n",
              "      <th>GPWv4_sum</th>\n",
              "      <th>geometry</th>\n",
              "    </tr>\n",
              "  </thead>\n",
              "  <tbody>\n",
              "    <tr>\n",
              "      <th>0</th>\n",
              "      <td>3.6</td>\n",
              "      <td>5.035049e+02</td>\n",
              "      <td>MULTIPOLYGON (((32.52517 28.99167, 32.52510 28...</td>\n",
              "    </tr>\n",
              "    <tr>\n",
              "      <th>1</th>\n",
              "      <td>3.8</td>\n",
              "      <td>1.819472e+04</td>\n",
              "      <td>MULTIPOLYGON (((32.61249 30.95833, 32.61118 30...</td>\n",
              "    </tr>\n",
              "    <tr>\n",
              "      <th>2</th>\n",
              "      <td>4.0</td>\n",
              "      <td>2.972926e+05</td>\n",
              "      <td>MULTIPOLYGON (((30.19517 30.81667, 30.19349 30...</td>\n",
              "    </tr>\n",
              "    <tr>\n",
              "      <th>3</th>\n",
              "      <td>4.2</td>\n",
              "      <td>3.568439e+06</td>\n",
              "      <td>MULTIPOLYGON (((31.42556 30.93333, 31.42560 30...</td>\n",
              "    </tr>\n",
              "    <tr>\n",
              "      <th>4</th>\n",
              "      <td>4.4</td>\n",
              "      <td>7.868593e+06</td>\n",
              "      <td>MULTIPOLYGON (((31.39298 30.65833, 31.39246 30...</td>\n",
              "    </tr>\n",
              "    <tr>\n",
              "      <th>5</th>\n",
              "      <td>4.6</td>\n",
              "      <td>5.402128e+06</td>\n",
              "      <td>MULTIPOLYGON (((31.26388 30.45000, 31.25932 30...</td>\n",
              "    </tr>\n",
              "    <tr>\n",
              "      <th>6</th>\n",
              "      <td>4.8</td>\n",
              "      <td>2.593704e+06</td>\n",
              "      <td>MULTIPOLYGON (((31.10926 30.30833, 31.10892 30...</td>\n",
              "    </tr>\n",
              "    <tr>\n",
              "      <th>7</th>\n",
              "      <td>5.0</td>\n",
              "      <td>9.248685e+05</td>\n",
              "      <td>MULTIPOLYGON (((31.11246 30.30833, 31.11097 30...</td>\n",
              "    </tr>\n",
              "    <tr>\n",
              "      <th>8</th>\n",
              "      <td>5.2</td>\n",
              "      <td>8.896171e+05</td>\n",
              "      <td>MULTIPOLYGON (((30.98132 30.21667, 30.97946 30...</td>\n",
              "    </tr>\n",
              "    <tr>\n",
              "      <th>9</th>\n",
              "      <td>5.4</td>\n",
              "      <td>1.488429e+06</td>\n",
              "      <td>MULTIPOLYGON (((31.21830 30.13333, 31.21823 30...</td>\n",
              "    </tr>\n",
              "    <tr>\n",
              "      <th>10</th>\n",
              "      <td>5.6</td>\n",
              "      <td>1.741642e+06</td>\n",
              "      <td>MULTIPOLYGON (((31.22086 30.13333, 31.22070 30...</td>\n",
              "    </tr>\n",
              "    <tr>\n",
              "      <th>11</th>\n",
              "      <td>5.8</td>\n",
              "      <td>8.635671e+05</td>\n",
              "      <td>MULTIPOLYGON (((31.23997 30.11667, 31.23756 30...</td>\n",
              "    </tr>\n",
              "    <tr>\n",
              "      <th>12</th>\n",
              "      <td>6.0</td>\n",
              "      <td>9.990331e+05</td>\n",
              "      <td>MULTIPOLYGON (((31.28398 30.04167, 31.28364 30...</td>\n",
              "    </tr>\n",
              "    <tr>\n",
              "      <th>13</th>\n",
              "      <td>6.2</td>\n",
              "      <td>8.443696e+05</td>\n",
              "      <td>MULTIPOLYGON (((31.15894 30.00833, 31.15862 30...</td>\n",
              "    </tr>\n",
              "    <tr>\n",
              "      <th>14</th>\n",
              "      <td>6.4</td>\n",
              "      <td>7.705245e+05</td>\n",
              "      <td>MULTIPOLYGON (((31.35533 29.98333, 31.35178 29...</td>\n",
              "    </tr>\n",
              "    <tr>\n",
              "      <th>15</th>\n",
              "      <td>6.6</td>\n",
              "      <td>8.519491e+05</td>\n",
              "      <td>MULTIPOLYGON (((31.23500 29.99167, 31.23430 29...</td>\n",
              "    </tr>\n",
              "    <tr>\n",
              "      <th>16</th>\n",
              "      <td>6.8</td>\n",
              "      <td>3.816476e+05</td>\n",
              "      <td>MULTIPOLYGON (((31.18622 29.90833, 31.18482 29...</td>\n",
              "    </tr>\n",
              "    <tr>\n",
              "      <th>17</th>\n",
              "      <td>7.0</td>\n",
              "      <td>3.813153e+05</td>\n",
              "      <td>MULTIPOLYGON (((31.15000 29.53204, 31.14913 29...</td>\n",
              "    </tr>\n",
              "    <tr>\n",
              "      <th>18</th>\n",
              "      <td>7.2</td>\n",
              "      <td>4.545713e+05</td>\n",
              "      <td>MULTIPOLYGON (((31.20136 29.80000, 31.20061 29...</td>\n",
              "    </tr>\n",
              "    <tr>\n",
              "      <th>19</th>\n",
              "      <td>7.4</td>\n",
              "      <td>4.836709e+05</td>\n",
              "      <td>MULTIPOLYGON (((31.21681 29.71667, 31.21674 29...</td>\n",
              "    </tr>\n",
              "    <tr>\n",
              "      <th>20</th>\n",
              "      <td>7.6</td>\n",
              "      <td>9.853412e+04</td>\n",
              "      <td>MULTIPOLYGON (((31.25000 29.69503, 31.24638 29...</td>\n",
              "    </tr>\n",
              "  </tbody>\n",
              "</table>\n",
              "</div>"
            ],
            "text/plain": [
              "    PARAMVALUE     GPWv4_sum                                           geometry\n",
              "0          3.6  5.035049e+02  MULTIPOLYGON (((32.52517 28.99167, 32.52510 28...\n",
              "1          3.8  1.819472e+04  MULTIPOLYGON (((32.61249 30.95833, 32.61118 30...\n",
              "2          4.0  2.972926e+05  MULTIPOLYGON (((30.19517 30.81667, 30.19349 30...\n",
              "3          4.2  3.568439e+06  MULTIPOLYGON (((31.42556 30.93333, 31.42560 30...\n",
              "4          4.4  7.868593e+06  MULTIPOLYGON (((31.39298 30.65833, 31.39246 30...\n",
              "5          4.6  5.402128e+06  MULTIPOLYGON (((31.26388 30.45000, 31.25932 30...\n",
              "6          4.8  2.593704e+06  MULTIPOLYGON (((31.10926 30.30833, 31.10892 30...\n",
              "7          5.0  9.248685e+05  MULTIPOLYGON (((31.11246 30.30833, 31.11097 30...\n",
              "8          5.2  8.896171e+05  MULTIPOLYGON (((30.98132 30.21667, 30.97946 30...\n",
              "9          5.4  1.488429e+06  MULTIPOLYGON (((31.21830 30.13333, 31.21823 30...\n",
              "10         5.6  1.741642e+06  MULTIPOLYGON (((31.22086 30.13333, 31.22070 30...\n",
              "11         5.8  8.635671e+05  MULTIPOLYGON (((31.23997 30.11667, 31.23756 30...\n",
              "12         6.0  9.990331e+05  MULTIPOLYGON (((31.28398 30.04167, 31.28364 30...\n",
              "13         6.2  8.443696e+05  MULTIPOLYGON (((31.15894 30.00833, 31.15862 30...\n",
              "14         6.4  7.705245e+05  MULTIPOLYGON (((31.35533 29.98333, 31.35178 29...\n",
              "15         6.6  8.519491e+05  MULTIPOLYGON (((31.23500 29.99167, 31.23430 29...\n",
              "16         6.8  3.816476e+05  MULTIPOLYGON (((31.18622 29.90833, 31.18482 29...\n",
              "17         7.0  3.813153e+05  MULTIPOLYGON (((31.15000 29.53204, 31.14913 29...\n",
              "18         7.2  4.545713e+05  MULTIPOLYGON (((31.20136 29.80000, 31.20061 29...\n",
              "19         7.4  4.836709e+05  MULTIPOLYGON (((31.21681 29.71667, 31.21674 29...\n",
              "20         7.6  9.853412e+04  MULTIPOLYGON (((31.25000 29.69503, 31.24638 29..."
            ]
          },
          "metadata": {},
          "execution_count": 42
        }
      ]
    },
    {
      "cell_type": "code",
      "metadata": {
        "id": "OK2ROYvhkp7t"
      },
      "source": [
        "x=urban_pop.iloc[:,1:6]\n",
        "y=urban_pop.iloc[:,1:6]\n",
        "z=all_pop.iloc[:,1:6]\n",
        "# zz=x+y/z\n"
      ],
      "execution_count": null,
      "outputs": []
    },
    {
      "cell_type": "code",
      "metadata": {
        "id": "9wcDHfyf1h7s"
      },
      "source": [
        "#### Check that rural + urban = total"
      ],
      "execution_count": null,
      "outputs": []
    },
    {
      "cell_type": "code",
      "metadata": {
        "id": "fxRmmuYtkrC3"
      },
      "source": [
        "# Check the data \n",
        "# (rural_pop.iloc[:,1:6] + urban_pop.iloc[:,1:6]) / all_pop.iloc[:,1:6]"
      ],
      "execution_count": null,
      "outputs": []
    },
    {
      "cell_type": "code",
      "metadata": {
        "id": "xtNRaVqK1nK8"
      },
      "source": [
        "# Final Plots"
      ],
      "execution_count": null,
      "outputs": []
    },
    {
      "cell_type": "code",
      "metadata": {
        "id": "L1FDuPAjAnF9"
      },
      "source": [
        "#### set colors\n",
        "ESRI16_c = 'blue'\n",
        "GHS15_c = 'indigo'\n",
        "GPWv4_c = 'deeppink'\n",
        "LS15_c = 'deepskyblue'\n",
        "WP16_c = 'forestgreen'"
      ],
      "execution_count": null,
      "outputs": []
    },
    {
      "cell_type": "code",
      "metadata": {
        "id": "Ej2bsdRNApjY"
      },
      "source": [
        "npl_all_fn = DATA_PATH+'interim/EGY_quake_pop.shp'\n",
        "npl_all = gpd.read_file(npl_all_fn)"
      ],
      "execution_count": null,
      "outputs": []
    },
    {
      "cell_type": "code",
      "metadata": {
        "id": "KViDG-lOArMp"
      },
      "source": [
        "npl_rural_fn = DATA_PATH+'interim/EGY_rural_quake_pop.shp'\n",
        "npl_rural = gpd.read_file(npl_rural_fn)"
      ],
      "execution_count": null,
      "outputs": []
    },
    {
      "cell_type": "code",
      "metadata": {
        "id": "ItwHzgbgAs4G"
      },
      "source": [
        "npl_urban_fn = DATA_PATH+'interim/EGY_urban_quake_pop.shp'\n",
        "npl_urban = gpd.read_file(npl_urban_fn)"
      ],
      "execution_count": null,
      "outputs": []
    },
    {
      "cell_type": "code",
      "metadata": {
        "id": "ezxMoMWWAvM-"
      },
      "source": [
        "test_a = npl_all[(npl_all['PARAMVALUE'] >= 4) & (npl_all['PARAMVALUE'] < 5)].iloc[:,1:6].sum(axis = 0)"
      ],
      "execution_count": null,
      "outputs": []
    },
    {
      "cell_type": "code",
      "metadata": {
        "id": "NeWNcNkOAvO4"
      },
      "source": [
        "test_b = npl_rural[(npl_rural['PARAMVALUE'] >= 4) & (npl_rural['PARAMVALUE'] < 5)].iloc[:,1:6].sum(axis = 0)"
      ],
      "execution_count": null,
      "outputs": []
    },
    {
      "cell_type": "code",
      "metadata": {
        "id": "DgOih-ARAvRy"
      },
      "source": [
        "test_c = npl_urban[(npl_urban['PARAMVALUE'] >= 4) & (npl_urban['PARAMVALUE'] < 5)].iloc[:,1:6].sum(axis = 0)"
      ],
      "execution_count": null,
      "outputs": []
    },
    {
      "cell_type": "code",
      "metadata": {
        "colab": {
          "base_uri": "https://localhost:8080/"
        },
        "id": "TqbMv-xOAvUe",
        "outputId": "5c74e0d3-2c56-4766-97d6-7c9f12b33ee5"
      },
      "source": [
        "(test_b + test_c) / test_a"
      ],
      "execution_count": null,
      "outputs": [
        {
          "output_type": "execute_result",
          "data": {
            "text/plain": [
              "GPWv4_sum    1.0\n",
              "dtype: float64"
            ]
          },
          "metadata": {},
          "execution_count": 54
        }
      ]
    },
    {
      "cell_type": "code",
      "metadata": {
        "id": "84gEu5GiAvWz"
      },
      "source": [
        "# Make data\n",
        "def group(df):\n",
        "    \n",
        "    \" Group and sum population by MI ranges, args is df quake pop\"\n",
        "    \n",
        "    iv = df[(df['PARAMVALUE'] >= 4) & (df['PARAMVALUE'] < 5)].iloc[:,1:6].sum(axis = 0)\n",
        "    v = df[(df['PARAMVALUE'] >= 5) & (df['PARAMVALUE'] < 6)].iloc[:,1:6].sum(axis = 0)\n",
        "    vi = df[(df['PARAMVALUE'] >= 6) & (df['PARAMVALUE'] < 7)].iloc[:,1:6].sum(axis = 0)\n",
        "    vii = df[df['PARAMVALUE'] >= 7].iloc[:,1:6].sum(axis = 0)\n",
        "    \n",
        "    out = pd.DataFrame()\n",
        "    out['iv'] = iv\n",
        "    out['v'] = v\n",
        "    out['vi'] = vi\n",
        "    out['vii'] = vii\n",
        "    \n",
        "    out = out.transpose()\n",
        "    return out"
      ],
      "execution_count": null,
      "outputs": []
    },
    {
      "cell_type": "code",
      "metadata": {
        "id": "Rr9s33duAvYw",
        "colab": {
          "base_uri": "https://localhost:8080/",
          "height": 173
        },
        "outputId": "368c8cea-c6ee-406e-93e4-31c49d73bde3"
      },
      "source": [
        "# Double check urban + rural / total = 100\n",
        "all_g = group(npl_all)\n",
        "rural_g = group(npl_rural)\n",
        "urban_g = group(npl_urban)\n",
        "(rural_g+urban_g) / all_g"
      ],
      "execution_count": null,
      "outputs": [
        {
          "output_type": "execute_result",
          "data": {
            "text/html": [
              "<div>\n",
              "<style scoped>\n",
              "    .dataframe tbody tr th:only-of-type {\n",
              "        vertical-align: middle;\n",
              "    }\n",
              "\n",
              "    .dataframe tbody tr th {\n",
              "        vertical-align: top;\n",
              "    }\n",
              "\n",
              "    .dataframe thead th {\n",
              "        text-align: right;\n",
              "    }\n",
              "</style>\n",
              "<table border=\"1\" class=\"dataframe\">\n",
              "  <thead>\n",
              "    <tr style=\"text-align: right;\">\n",
              "      <th></th>\n",
              "      <th>GPWv4_sum</th>\n",
              "    </tr>\n",
              "  </thead>\n",
              "  <tbody>\n",
              "    <tr>\n",
              "      <th>iv</th>\n",
              "      <td>1.0</td>\n",
              "    </tr>\n",
              "    <tr>\n",
              "      <th>v</th>\n",
              "      <td>1.0</td>\n",
              "    </tr>\n",
              "    <tr>\n",
              "      <th>vi</th>\n",
              "      <td>1.0</td>\n",
              "    </tr>\n",
              "    <tr>\n",
              "      <th>vii</th>\n",
              "      <td>1.0</td>\n",
              "    </tr>\n",
              "  </tbody>\n",
              "</table>\n",
              "</div>"
            ],
            "text/plain": [
              "     GPWv4_sum\n",
              "iv         1.0\n",
              "v          1.0\n",
              "vi         1.0\n",
              "vii        1.0"
            ]
          },
          "metadata": {},
          "execution_count": 56
        }
      ]
    },
    {
      "cell_type": "code",
      "metadata": {
        "colab": {
          "base_uri": "https://localhost:8080/",
          "height": 528
        },
        "id": "kUwQH3HqA2CJ",
        "outputId": "8f8fb06a-220d-42b7-cc94-1e5cf3c1c917"
      },
      "source": [
        "# Make bar plot \n",
        "fig, axs = plt.subplots(1, 1, figsize = (12, 8), sharex=True)\n",
        "ws = 0.25\n",
        "fig.subplots_adjust(wspace=ws)\n",
        "scale = 10**6\n",
        "\n",
        "# All Quake\n",
        "data = group(npl_all)\n",
        "\n",
        "# Bar locations\n",
        "a = [1-.3,2-.3,3-.3, 4-.3]\n",
        "b = [1-.15,2-.15,3-.15,4-.15]\n",
        "c = [1,2,3,4]\n",
        "d = [1+.15,2+.15,3+.15,4+.15]\n",
        "e = [1+.3,2+.3,3+.3,4+.3]\n",
        "\n",
        "# plots\n",
        "# plt.bar(a, data.ESRI16_sum / scale, width=0.12, align='center', alpha  = 0.5, color = ESRI16_c, ec = 'black')\n",
        "# plt.bar(b, data.GHS15_sum / scale, width=0.12, align='center', alpha  = 0.6, color = GHS15_c, ec = 'black')\n",
        "plt.bar(c, data.GPWv4_sum / scale, width=0.12, align='center', alpha  = 0.7, color = GPWv4_c, ec = 'black')\n",
        "# plt.bar(d, data.LS15_sum / scale, width=0.12, align='center', alpha  = 0.8, color = LS15_c, ec = 'black')\n",
        "# plt.bar(e, data.WP16_sum / scale, width=0.12, align='center', alpha  = 0.9, color = WP16_c, ec = 'black')\n",
        "\n",
        "# Fake plot for rural hatch legend \n",
        "# plt.bar(e, data.WP16_sum / scale, width=0.12, align='center', alpha  = 0, color = 'white', ec = 'black',hatch = \"///\")\n",
        "\n",
        "# rural floods\n",
        "data = group(npl_rural)\n",
        "# plt.bar(a, data.ESRI16_sum / scale, width=0.12, align='center', alpha  = 0.5, color = ESRI16_c, ec = 'black', hatch = \"///\")\n",
        "# plt.bar(b, data.GHS15_sum / scale, width=0.12, align='center', alpha  = 0.6, color = GHS15_c, ec = 'black', hatch = \"///\")\n",
        "plt.bar(c, data.GPWv4_sum / scale, width=0.12, align='center', alpha  = 0.7, color = GPWv4_c, ec = 'black', hatch = \"///\")\n",
        "# plt.bar(d, data.LS15_sum / scale, width=0.12, align='center', alpha  = 0.8, color = LS15_c, ec = 'black', hatch = \"///\")\n",
        "# plt.bar(e, data.WP16_sum / scale, width=0.12, align='center', alpha  = 0.9, color = WP16_c, ec = 'black', hatch = \"///\")\n",
        "\n",
        "# legend\n",
        "legend_elements = [Patch(facecolor=ESRI16_c, alpha = 0.5, edgecolor=None, label='WPE-15'),\n",
        "                  Patch(facecolor=GHS15_c, alpha = 0.6, edgecolor=None, label='GHSL-90'),\n",
        "                  Patch(facecolor=GPWv4_c, alpha = 0.7, edgecolor=None, label='GPW-15'),\n",
        "                  Patch(facecolor=LS15_c, alpha = 0.8, edgecolor=None, label='LS-15'),\n",
        "                  Patch(facecolor= WP16_c, alpha = 0.9, edgecolor=None, label='WP-16'),\n",
        "                  Patch(facecolor= 'white', alpha = 0.9,  hatch = '///', edgecolor='black', label='rural pop')]\n",
        "plt.legend(handles = legend_elements, bbox_to_anchor=(1, 1.02), loc='upper left', ncol=1, fontsize = 15);\n",
        "\n",
        "# Labels / Titles\n",
        "axs.set_title('Egypt 2015 Earthquake Simulation Impact', size = 20)\n",
        "axs.set_xlabel('Instrumental Intesnity', fontsize = 15)\n",
        "axs.set_ylabel('Total Population [millions]', fontsize = 15)\n",
        "\n",
        "# Ticks\n",
        "ticks_bar = ['>=4', ' >=5', '>=6', '>=7'];\n",
        "plt.xticks([1,2,3,4], ticks_bar, fontsize = 15);\n",
        "plt.yticks(fontsize = 15);\n",
        "\n",
        "# save it out\n",
        "fig_out = DATA_PATH+'FIGS/MS/Finalv1/Fig4.png'\n",
        "# plt.savefig(fig_out, dpi = 300, facecolor = 'white', bbox_inches='tight')"
      ],
      "execution_count": null,
      "outputs": [
        {
          "output_type": "display_data",
          "data": {
            "image/png": "[encoded data removed]",
            "text/plain": [
              "<Figure size 864x576 with 1 Axes>"
            ]
          },
          "metadata": {
            "needs_background": "light"
          }
        }
      ]
    }
  ]
}